{
 "cells": [
  {
   "cell_type": "code",
   "execution_count": 3,
   "metadata": {},
   "outputs": [],
   "source": [
    "from src.utils.notebook import *\n",
    "import hydra, omegaconf\n",
    "from omegaconf import DictConfig, OmegaConf\n",
    "from src import constants"
   ]
  },
  {
   "cell_type": "code",
   "execution_count": 6,
   "metadata": {},
   "outputs": [
    {
     "ename": "TypeError",
     "evalue": "__init__() got an unexpected keyword argument 'config_name'",
     "output_type": "error",
     "traceback": [
      "\u001b[0;31m---------------------------------------------------------------------------\u001b[0m",
      "\u001b[0;31mTypeError\u001b[0m                                 Traceback (most recent call last)",
      "Cell \u001b[0;32mIn[6], line 2\u001b[0m\n\u001b[1;32m      1\u001b[0m \u001b[39m# Load hydra config from yaml filses and command line arguments.\u001b[39;00m\n\u001b[0;32m----> 2\u001b[0m hydra\u001b[39m.\u001b[39;49minitialize(config_path\u001b[39m=\u001b[39;49m\u001b[39mstr\u001b[39;49m(constants\u001b[39m.\u001b[39;49mHYDRA_CONFIG_PATH), config_name\u001b[39m=\u001b[39;49mconstants\u001b[39m.\u001b[39;49mHYDRA_CONFIG_NAME, version_base\u001b[39m=\u001b[39;49m\u001b[39m\"\u001b[39;49m\u001b[39m1.3\u001b[39;49m\u001b[39m\"\u001b[39;49m)\n",
      "\u001b[0;31mTypeError\u001b[0m: __init__() got an unexpected keyword argument 'config_name'"
     ]
    }
   ],
   "source": [
    "# Load hydra config from yaml filses and command line arguments.\n",
    "cfg = hydra.initialize(config_path=str(constants.HYDRA_CONFIG_PATH), config_name=constants.HYDRA_CONFIG_NAME, version_base=\"1.3\")"
   ]
  },
  {
   "cell_type": "code",
   "execution_count": null,
   "metadata": {},
   "outputs": [],
   "source": []
  }
 ],
 "metadata": {
  "kernelspec": {
   "display_name": "Python 3",
   "language": "python",
   "name": "python3"
  },
  "language_info": {
   "codemirror_mode": {
    "name": "ipython",
    "version": 3
   },
   "file_extension": ".py",
   "mimetype": "text/x-python",
   "name": "python",
   "nbconvert_exporter": "python",
   "pygments_lexer": "ipython3",
   "version": "3.9.16"
  },
  "orig_nbformat": 4
 },
 "nbformat": 4,
 "nbformat_minor": 2
}
